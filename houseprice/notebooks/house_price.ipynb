{
 "cells": [
  {
   "cell_type": "code",
   "execution_count": null,
   "id": "6fbdc18b",
   "metadata": {},
   "outputs": [],
   "source": [
    "import pandas as pd \n",
    "import numpy as np\n",
    "import matplotlib.pyplot as plt\n",
    "import seaborn as sns\n",
    "\n",
    "\n",
    "pd.set_option('display.max_columns', None)"
   ]
  },
  {
   "cell_type": "code",
   "execution_count": null,
   "id": "72b41b8a",
   "metadata": {},
   "outputs": [],
   "source": [
    "from sklearn.model_selection import train_test_split\n",
    "\n",
    "\n",
    "df = pd.read_csv(\"../data/train.csv\")\n"
   ]
  },
  {
   "cell_type": "code",
   "execution_count": null,
   "id": "960619b3",
   "metadata": {},
   "outputs": [],
   "source": [
    "df.info()"
   ]
  },
  {
   "cell_type": "markdown",
   "id": "451f26cb",
   "metadata": {},
   "source": [
    "# Data Cleansing"
   ]
  },
  {
   "cell_type": "markdown",
   "id": "abe4a2bd",
   "metadata": {},
   "source": [
    "#### 🧹 Handling Missing Values (Feature Absence)\n"
   ]
  },
  {
   "cell_type": "code",
   "execution_count": null,
   "id": "a7b8a082",
   "metadata": {},
   "outputs": [],
   "source": [
    "null_cols = df.columns[df.isnull().any()]\n",
    "null_df = df[null_cols].copy()\n"
   ]
  },
  {
   "cell_type": "code",
   "execution_count": null,
   "id": "cc6eca6a",
   "metadata": {},
   "outputs": [],
   "source": [
    "# for col in null_df.select_dtypes(include='object').columns:\n",
    "# \tprint(null_df[col].value_counts(dropna=False))\n",
    "# \tprint()"
   ]
  },
  {
   "cell_type": "code",
   "execution_count": null,
   "id": "c8c3cece",
   "metadata": {},
   "outputs": [],
   "source": [
    "null_df.info()"
   ]
  },
  {
   "cell_type": "code",
   "execution_count": null,
   "id": "d7f4c994",
   "metadata": {},
   "outputs": [],
   "source": [
    "cat_null_cols = null_df.select_dtypes(include='object').columns\n",
    "num_null_cols = null_df.select_dtypes(include='number').columns\n",
    "\n",
    "\n",
    "bsmt_null_cols = cat_null_cols[cat_null_cols.str.contains('Bsmt')]\n",
    "garage_null_cols = cat_null_cols[cat_null_cols.str.contains('Garage')]\n",
    "\n",
    "\n",
    "dict = {\n",
    "    'Alley': 'NoAlley',\n",
    "    'Electrical': df.Electrical.mode()[0],\n",
    "    'FireplaceQu': df.FireplaceQu.mode()[0],\n",
    "    'Fence': 'NoFence',\n",
    "    'MiscFeature': 'None',\n",
    "    'PoolQC': 'NoPool',\n",
    "    'MasVnrType': 'None',\n",
    "    **{bsmt_col: 'NoBsmtAvl' for bsmt_col in bsmt_null_cols},\n",
    "    **{garage_col: 'NoGarageAvl' for garage_col in garage_null_cols},\n",
    "    **{num_col: int(null_df[num_col].mean()) for num_col in num_null_cols}\n",
    "}\n",
    "\n",
    "\n",
    "null_df.fillna(dict, inplace=True)\n",
    "df.update(null_df) # No Missing Value left data is fully cleansed"
   ]
  },
  {
   "cell_type": "code",
   "execution_count": null,
   "id": "a71d03f0",
   "metadata": {},
   "outputs": [],
   "source": [
    "null_df.mean(numeric_only=True)"
   ]
  },
  {
   "cell_type": "code",
   "execution_count": null,
   "id": "08e06f5d",
   "metadata": {},
   "outputs": [],
   "source": [
    "df.drop(columns='Id', inplace=True)"
   ]
  },
  {
   "cell_type": "markdown",
   "id": "f24e2d30",
   "metadata": {},
   "source": [
    "#### EDA"
   ]
  },
  {
   "cell_type": "code",
   "execution_count": null,
   "id": "81539750",
   "metadata": {},
   "outputs": [],
   "source": [
    "# df.select_dtypes(include='number')\n",
    "df.info()"
   ]
  },
  {
   "cell_type": "code",
   "execution_count": null,
   "id": "a8215358",
   "metadata": {},
   "outputs": [],
   "source": [
    "df[['MSSubClass', 'OverallQual', 'OverallCond', 'MoSold']] = df[['MSSubClass', 'OverallQual', 'OverallCond', 'MoSold']].astype('object')"
   ]
  },
  {
   "cell_type": "code",
   "execution_count": null,
   "id": "f1d7f83c",
   "metadata": {},
   "outputs": [],
   "source": [
    "\n",
    "hn =  df.select_dtypes(include='number').corr()\n",
    "fig, ax = plt.subplots(figsize=(8,6))\n",
    "sns.heatmap(hn, cmap='Blues', ax=ax)\n",
    "plt.title('Correlation b/w numerical cols')\n",
    "plt.show()"
   ]
  },
  {
   "cell_type": "markdown",
   "id": "24c14732",
   "metadata": {},
   "source": [
    "Interpretation:\n",
    "\n",
    "    X-axis: Correlation values (from -1 to 1).\n",
    "\n",
    "    Y-axis: Number of features that have that correlation with the current feature.\n",
    "\n",
    "So, for each feature:\n",
    "\n",
    "    A peak near 1 → Strong positive correlation with many features.\n",
    "\n",
    "    A peak near 0 → Mostly uncorrelated.\n",
    "\n",
    "    A peak near -1 → Strong negative correlation.\n",
    "\n",
    "It helps you see how strongly each feature is generally related to others."
   ]
  },
  {
   "cell_type": "code",
   "execution_count": null,
   "id": "126c9d9c",
   "metadata": {},
   "outputs": [],
   "source": [
    "# hn.hist(figsize=(16, 14), bins=50, xlabelsize=8, ylabelsize=8)"
   ]
  },
  {
   "cell_type": "code",
   "execution_count": null,
   "id": "c13a42ae",
   "metadata": {},
   "outputs": [],
   "source": [
    "cors = df.corr(numeric_only=True)['SalePrice'].sort_values(ascending=False).to_frame()"
   ]
  },
  {
   "cell_type": "code",
   "execution_count": null,
   "id": "77d8f8b3",
   "metadata": {},
   "outputs": [],
   "source": [
    "# Plot heatmap\n",
    "fig, ax = plt.subplots(figsize=(4,7))\n",
    "sns.heatmap(cors, annot=True, cmap='coolwarm', ax=ax)\n",
    "plt.title('Correlation with SalePrice')\n",
    "plt.show()"
   ]
  },
  {
   "cell_type": "markdown",
   "id": "f5df7e16",
   "metadata": {},
   "source": [
    "**feature selection numerical**"
   ]
  },
  {
   "cell_type": "code",
   "execution_count": null,
   "id": "4be29727",
   "metadata": {},
   "outputs": [],
   "source": [
    "high_corr_features = cors.query(\"SalePrice > 0.45\") #columns(features) highly correlated to SalePrice\n",
    "high_corr_features.iloc[1:]\n"
   ]
  },
  {
   "cell_type": "code",
   "execution_count": null,
   "id": "f71b9079",
   "metadata": {},
   "outputs": [],
   "source": [
    "# fig, ax = plt.subplots(figsize=(18,10))\n",
    "g = sns.pairplot(df, y_vars='SalePrice', x_vars=high_corr_features.index, kind='scatter')\n",
    "g.figure.set_size_inches(20,6)"
   ]
  },
  {
   "cell_type": "code",
   "execution_count": null,
   "id": "fea9b21f",
   "metadata": {},
   "outputs": [],
   "source": [
    "sns.boxplot(x=df['SalePrice'])"
   ]
  },
  {
   "cell_type": "code",
   "execution_count": null,
   "id": "ef2b3838",
   "metadata": {},
   "outputs": [],
   "source": [
    "from sklearn.feature_selection import f_regression\n",
    "\n",
    "y = df['SalePrice']\n",
    "categorical_df = df.select_dtypes(include='object')\n",
    "X_encoded = pd.get_dummies(categorical_df, drop_first=True)\n",
    "f_scores, _ = f_regression(X_encoded, y)\n",
    "pd.Series(f_scores, index=X_encoded.columns).sort_values(ascending=False)"
   ]
  },
  {
   "cell_type": "code",
   "execution_count": null,
   "id": "295aa75b",
   "metadata": {},
   "outputs": [],
   "source": [
    "Q3 = df['SalePrice'].quantile(0.75)\n",
    "Q1 = df['SalePrice'].quantile(0.25)\n",
    "IQR = Q3 - Q1\n",
    "\n",
    "iqr_df = df[(df['SalePrice'] > Q1 - 1.5*IQR) & (df['SalePrice'] < Q3 + 1.5*IQR)]\n",
    "final_df = iqr_df[high_corr_features.index]\n",
    "final_df"
   ]
  },
  {
   "cell_type": "code",
   "execution_count": null,
   "id": "3cddb587",
   "metadata": {},
   "outputs": [],
   "source": [
    "set(df.dtypes.tolist())"
   ]
  },
  {
   "cell_type": "code",
   "execution_count": null,
   "id": "7a0a78c5",
   "metadata": {},
   "outputs": [],
   "source": [
    "# df_cat = df.select_dtypes(include=['object', 'category'])\n",
    "# cat_cols = df_cat.columns.tolist()\n",
    "# n_cols = 4\n",
    "# n_rows = (len(cat_cols) // n_cols + 1)\n",
    "\n",
    "# fig, axes = plt.subplots(n_rows, n_cols, figsize=(20, n_rows * 5))\n",
    "# fig.subplots_adjust(hspace=0.4, wspace=0.3)\n",
    "\n",
    "# for i, col in enumerate(cat_cols):\n",
    "# \tax = axes[i // n_cols, i % n_cols] if len(cat_cols) > n_cols else axes[i]\n",
    "# \tsns.boxplot(x=col, y='SalePrice', data=df, ax=ax)\n",
    "# \tax.set_title(f'Price by {col}')\n",
    "# \tax.tick_params(axis='x', rotation=45)\n",
    "\n",
    "# for j in range(i + 1, n_rows * n_cols):\n",
    "# \tfig.delaxes(axes.flatten()[j])\n",
    "\t"
   ]
  },
  {
   "cell_type": "code",
   "execution_count": null,
   "id": "17bc8112",
   "metadata": {},
   "outputs": [],
   "source": [
    "sns.boxplot(x=df.GarageCars, y=df.SalePrice)"
   ]
  },
  {
   "cell_type": "code",
   "execution_count": null,
   "id": "2151b706",
   "metadata": {},
   "outputs": [],
   "source": [
    "final_df.isna().sum()"
   ]
  },
  {
   "cell_type": "markdown",
   "id": "353dd4b4",
   "metadata": {},
   "source": [
    "## Training"
   ]
  },
  {
   "cell_type": "code",
   "execution_count": null,
   "id": "978cc0fe",
   "metadata": {},
   "outputs": [],
   "source": [
    "train_df, test_df = train_test_split(final_df, random_state=23, test_size=0.2)"
   ]
  },
  {
   "cell_type": "code",
   "execution_count": null,
   "id": "9e373aca",
   "metadata": {},
   "outputs": [],
   "source": [
    "x = train_df.iloc[:, 1:]\n",
    "y = train_df.SalePrice"
   ]
  },
  {
   "cell_type": "code",
   "execution_count": null,
   "id": "d019d2ef",
   "metadata": {},
   "outputs": [],
   "source": [
    "from sklearn.linear_model import LinearRegression\n",
    "\n",
    "lr = LinearRegression()\n",
    "lr.fit(X=x, y=y)"
   ]
  },
  {
   "cell_type": "code",
   "execution_count": null,
   "id": "dfc90cad",
   "metadata": {},
   "outputs": [],
   "source": [
    "test_df_X = test_df.drop(\"SalePrice\", axis=1)\n",
    "preds = lr.predict(test_df_X)\n",
    "\n",
    "test_df"
   ]
  },
  {
   "cell_type": "code",
   "execution_count": null,
   "id": "22945341",
   "metadata": {},
   "outputs": [],
   "source": [
    "from sklearn.metrics import r2_score\n",
    "\n",
    "r2_score(y_pred=preds, y_true=test_df.SalePrice)"
   ]
  },
  {
   "cell_type": "code",
   "execution_count": null,
   "id": "a61f7048",
   "metadata": {},
   "outputs": [],
   "source": [
    "# test_df = pd.read_csv(\"/home/tesserxt/AllProjects/jupyter/campusx/content/house_price/test.csv\")\n",
    "# # imp_test_df = test_df[imp_num_cols.drop('SalePrice').index]\n",
    "# # imp_test_df[imp_test_df.isna().any(axis=1)]\n",
    "# # imp_test_df.fillna(imp_test_df.mean(), inplace=True)\n",
    "\n",
    "\n"
   ]
  },
  {
   "cell_type": "markdown",
   "id": "a59fbf7c",
   "metadata": {},
   "source": [
    "# Submission"
   ]
  },
  {
   "cell_type": "code",
   "execution_count": null,
   "id": "f7dae5b6",
   "metadata": {},
   "outputs": [],
   "source": [
    "test_file_path = \"/home/tesserxt/AllProjects/jupyter/campusx/content/house_price/test.csv\"\n",
    "test_df = pd.read_csv(test_file_path)\n",
    "test_data = test_df[high_corr_features.drop(\"SalePrice\").index]\n",
    "test_data.fillna({'MasVnrArea': 103, 'GarageYrBlt': 1978, \"GarageArea\": 3.17, 'TotalBsmtSF': 2, 'GarageCars': 243}, inplace=True)\n",
    "test_data.dropna(how='all', axis=1)\n",
    "# test_data.isnull().sum().sort_values(ascending=False)\n",
    "ids = test_df.pop('Id')\n",
    "preds = lr.predict(test_data)\n",
    "\t\n",
    "output = pd.DataFrame({'Id': ids,\n",
    "\t\t\t\t   'SalePrice': preds.squeeze()})\n",
    "\n",
    "output.to_csv('submission.csv', index=False)\n",
    "test_data.isna().sum()\n"
   ]
  },
  {
   "cell_type": "code",
   "execution_count": null,
   "id": "63cc7ec5",
   "metadata": {},
   "outputs": [],
   "source": [
    "test_data"
   ]
  },
  {
   "cell_type": "markdown",
   "id": "d8a4e5f2",
   "metadata": {},
   "source": [
    "# Insurance dataset"
   ]
  },
  {
   "cell_type": "code",
   "execution_count": null,
   "id": "c3cd366e",
   "metadata": {},
   "outputs": [],
   "source": [
    "df = pd.read_csv(\"/home/tesserxt/AllProjects/jupyter/campusx/content/insurance_data.csv\")\n",
    "# df['gender'] = df['gender'].map({'male': 1, 'female': 0}).astype('UInt8')\n",
    "# df['diabetic'] = df['diabetic'].map({'Yes': 1, 'No': 0}).astype('UInt8')\n",
    "# df['smoker'] = df['smoker'].map({'Yes': 0, 'No': 1}).astype('UInt8')\n",
    "\n",
    "# region_map = {'southeast': 0, 'northeast': 1, 'northwest': 2, 'southwest': 3}\n",
    "# df['region'] = df['region'].map(region_map).astype('UInt8')\n",
    "# df.insert(len(df.columns) - 1, 'bmi_category', df['bmi'].apply(categorize_bmi))\n",
    "# df.dropna(inplace=True, ignore_index=True)"
   ]
  },
  {
   "cell_type": "code",
   "execution_count": null,
   "id": "e8ec2ab7",
   "metadata": {},
   "outputs": [],
   "source": [
    "df"
   ]
  },
  {
   "cell_type": "code",
   "execution_count": null,
   "id": "70a6c6e2",
   "metadata": {},
   "outputs": [],
   "source": [
    "X = df.iloc[:,[2,3,5,6,7,8,9,10]]\n",
    "y = df.iloc[:, -1]\n",
    "X"
   ]
  },
  {
   "cell_type": "code",
   "execution_count": null,
   "id": "a3d68960",
   "metadata": {},
   "outputs": [],
   "source": [
    "from sklearn.model_selection import train_test_split\n",
    "\n",
    "\n",
    "X_train, X_test, y_train, y_test = train_test_split(X, y, test_size=0.2, random_state=42)\n",
    "print(X_train.shape, X_test.shape, y_train.shape, y_test.shape)\n"
   ]
  },
  {
   "cell_type": "code",
   "execution_count": null,
   "id": "4f3c3b84",
   "metadata": {},
   "outputs": [],
   "source": [
    "lr = LinearRegression()\n",
    "lr.fit(X_train, y_train)\n",
    "pd.Series(lr.coef_, index = X.columns)"
   ]
  },
  {
   "cell_type": "code",
   "execution_count": null,
   "id": "c7672dd7",
   "metadata": {},
   "outputs": [],
   "source": [
    "y_pred = lr.predict(X_test)"
   ]
  },
  {
   "cell_type": "code",
   "execution_count": null,
   "id": "4c127abe",
   "metadata": {},
   "outputs": [],
   "source": [
    "from sklearn.metrics import r2_score, mean_absolute_error, mean_squared_error\n",
    "\n",
    "print(\n",
    "\tr2_score(y_pred=y_pred, y_true=y_test)\n",
    ")"
   ]
  },
  {
   "cell_type": "code",
   "execution_count": null,
   "id": "1a9fa2f4",
   "metadata": {},
   "outputs": [],
   "source": [
    "y_test"
   ]
  },
  {
   "cell_type": "code",
   "execution_count": null,
   "id": "965ea136",
   "metadata": {},
   "outputs": [],
   "source": [
    "y_pred"
   ]
  }
 ],
 "metadata": {
  "kernelspec": {
   "display_name": "Python (jupyter_venv)",
   "language": "python",
   "name": "jupyter_venv"
  },
  "language_info": {
   "codemirror_mode": {
    "name": "ipython",
    "version": 3
   },
   "file_extension": ".py",
   "mimetype": "text/x-python",
   "name": "python",
   "nbconvert_exporter": "python",
   "pygments_lexer": "ipython3",
   "version": "3.13.3"
  }
 },
 "nbformat": 4,
 "nbformat_minor": 5
}
