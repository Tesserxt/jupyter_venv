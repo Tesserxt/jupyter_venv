{
 "cells": [
  {
   "cell_type": "code",
   "execution_count": 1,
   "id": "6a2030e6",
   "metadata": {},
   "outputs": [
    {
     "data": {
      "text/html": [
       "<div>\n",
       "<style scoped>\n",
       "    .dataframe tbody tr th:only-of-type {\n",
       "        vertical-align: middle;\n",
       "    }\n",
       "\n",
       "    .dataframe tbody tr th {\n",
       "        vertical-align: top;\n",
       "    }\n",
       "\n",
       "    .dataframe thead th {\n",
       "        text-align: right;\n",
       "    }\n",
       "</style>\n",
       "<table border=\"1\" class=\"dataframe\">\n",
       "  <thead>\n",
       "    <tr style=\"text-align: right;\">\n",
       "      <th></th>\n",
       "      <th>pareto</th>\n",
       "    </tr>\n",
       "  </thead>\n",
       "  <tbody>\n",
       "    <tr>\n",
       "      <th>0</th>\n",
       "      <td>2.455636</td>\n",
       "    </tr>\n",
       "    <tr>\n",
       "      <th>1</th>\n",
       "      <td>2.557010</td>\n",
       "    </tr>\n",
       "    <tr>\n",
       "      <th>2</th>\n",
       "      <td>2.216261</td>\n",
       "    </tr>\n",
       "    <tr>\n",
       "      <th>3</th>\n",
       "      <td>2.887199</td>\n",
       "    </tr>\n",
       "    <tr>\n",
       "      <th>4</th>\n",
       "      <td>3.166486</td>\n",
       "    </tr>\n",
       "    <tr>\n",
       "      <th>...</th>\n",
       "      <td>...</td>\n",
       "    </tr>\n",
       "    <tr>\n",
       "      <th>9995</th>\n",
       "      <td>4.289075</td>\n",
       "    </tr>\n",
       "    <tr>\n",
       "      <th>9996</th>\n",
       "      <td>2.866832</td>\n",
       "    </tr>\n",
       "    <tr>\n",
       "      <th>9997</th>\n",
       "      <td>2.717228</td>\n",
       "    </tr>\n",
       "    <tr>\n",
       "      <th>9998</th>\n",
       "      <td>3.937381</td>\n",
       "    </tr>\n",
       "    <tr>\n",
       "      <th>9999</th>\n",
       "      <td>3.966442</td>\n",
       "    </tr>\n",
       "  </tbody>\n",
       "</table>\n",
       "<p>10000 rows × 1 columns</p>\n",
       "</div>"
      ],
      "text/plain": [
       "        pareto\n",
       "0     2.455636\n",
       "1     2.557010\n",
       "2     2.216261\n",
       "3     2.887199\n",
       "4     3.166486\n",
       "...        ...\n",
       "9995  4.289075\n",
       "9996  2.866832\n",
       "9997  2.717228\n",
       "9998  3.937381\n",
       "9999  3.966442\n",
       "\n",
       "[10000 rows x 1 columns]"
      ]
     },
     "execution_count": 1,
     "metadata": {},
     "output_type": "execute_result"
    }
   ],
   "source": [
    "import pandas as pd\n",
    "import numpy as np\n",
    "\n",
    "df= pd.DataFrame({\n",
    "        \"pareto\": (np.random.pareto(3, 10000) + 1) * 2\n",
    "    })\n",
    "df"
   ]
  },
  {
   "cell_type": "code",
   "execution_count": 60,
   "id": "0d6b5f38",
   "metadata": {},
   "outputs": [],
   "source": [
    "# Central Limit Theorem\n",
    "k = 100\n",
    "n = 60\n",
    "samples = []\n",
    "\n",
    "for i in range(k):\n",
    "    sample = df.sample(n).values.tolist()\n",
    "    samples.append(sample)\n",
    "\n",
    "samples = np.array(samples)\n",
    "sampling_dist_mean = samples.mean(axis=1)\n",
    "\n",
    "x = sampling_dist_mean.mean()"
   ]
  },
  {
   "cell_type": "code",
   "execution_count": 62,
   "id": "3d2405b1",
   "metadata": {},
   "outputs": [
    {
     "name": "stdout",
     "output_type": "stream",
     "text": [
      "Actual population mean lies within:  2.578773792306818  -  3.4539924807792732\n",
      "Actual population mean is  3.005220154476528\n"
     ]
    }
   ],
   "source": [
    "# Z-procedure(sigma known)\n",
    "\n",
    "popu_std = df.pareto.std()\n",
    "\n",
    "lower = x - 1.96 * popu_std/np.sqrt(n)\n",
    "upper = x + 1.96 * popu_std/np.sqrt(n)\n",
    "\n",
    "print('Actual population mean lies within: ', lower, ' - ', upper)\n",
    "print('Actual population mean is ', df.pareto.mean())"
   ]
  },
  {
   "cell_type": "code",
   "execution_count": 63,
   "id": "916bf411",
   "metadata": {},
   "outputs": [
    {
     "name": "stdout",
     "output_type": "stream",
     "text": [
      "Actual population mean lies within:  2.6223535929523525  -  3.4104126801337387\n",
      "Actual population mean is  3.005220154476528\n"
     ]
    }
   ],
   "source": [
    "# T-procedure(sigma not known)\n",
    "\n",
    "sample_std = samples.std(axis=1).mean() # for multiple samples(k > 1) we avg std of each sample.\n",
    "\n",
    "lower = x - 2.045 * sample_std/np.sqrt(n)\n",
    "upper = x + 2.045 * sample_std/np.sqrt(n)\n",
    "\n",
    "print('Actual population mean lies within: ', lower, ' - ', upper)\n",
    "print('Actual population mean is ', df.pareto.mean())"
   ]
  },
  {
   "cell_type": "code",
   "execution_count": 64,
   "id": "e5ac6f1f",
   "metadata": {},
   "outputs": [
    {
     "name": "stdout",
     "output_type": "stream",
     "text": [
      "sample_std:   1.49\n",
      "popu_std:     1.73 \n",
      "\n",
      "sample_mean:  3.02\n",
      "popu_mean:    3.01\n"
     ]
    }
   ],
   "source": [
    "print('sample_std:  ', sample_std.round(2))\n",
    "print('popu_std:    ', popu_std.round(2), '\\n')\n",
    "print('sample_mean: ', x.round(2))\n",
    "print('popu_mean:   ', df.pareto.mean().round(2))"
   ]
  },
  {
   "cell_type": "code",
   "execution_count": 74,
   "id": "d7b62868",
   "metadata": {},
   "outputs": [
    {
     "data": {
      "text/plain": [
       "np.float64(0.1926794834184318)"
      ]
     },
     "execution_count": 74,
     "metadata": {},
     "output_type": "execute_result"
    }
   ],
   "source": [
    "samples.std(axis=1).mean()/np.sqrt(n)"
   ]
  },
  {
   "cell_type": "code",
   "execution_count": 73,
   "id": "166ebc4c",
   "metadata": {},
   "outputs": [
    {
     "data": {
      "text/plain": [
       "np.float64(0.22327007358991216)"
      ]
     },
     "execution_count": 73,
     "metadata": {},
     "output_type": "execute_result"
    }
   ],
   "source": [
    "df.pareto.std() / np.sqrt(n)"
   ]
  }
 ],
 "metadata": {
  "kernelspec": {
   "display_name": "jupyter_venv",
   "language": "python",
   "name": "python3"
  },
  "language_info": {
   "codemirror_mode": {
    "name": "ipython",
    "version": 3
   },
   "file_extension": ".py",
   "mimetype": "text/x-python",
   "name": "python",
   "nbconvert_exporter": "python",
   "pygments_lexer": "ipython3",
   "version": "3.13.2"
  }
 },
 "nbformat": 4,
 "nbformat_minor": 5
}
